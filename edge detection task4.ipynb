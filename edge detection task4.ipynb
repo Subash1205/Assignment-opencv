{
 "cells": [
  {
   "cell_type": "code",
   "execution_count": 36,
   "id": "1845b361-a7b7-43a3-873d-4af775ce0c18",
   "metadata": {},
   "outputs": [],
   "source": [
    "import cv2 as cv\n",
    "import numpy as np\n",
    "import matplotlib.pyplot as plt"
   ]
  },
  {
   "cell_type": "code",
   "execution_count": 37,
   "id": "f1b46d95-c4b0-4874-aa03-577666382240",
   "metadata": {},
   "outputs": [],
   "source": [
    "img = cv.imread('xray1.jpg')\n",
    "img= cv.cvtColor(img,cv.COLOR_BGR2GRAY)"
   ]
  },
  {
   "cell_type": "code",
   "execution_count": 38,
   "id": "09375798-2361-4928-a541-49fbca5d8f31",
   "metadata": {},
   "outputs": [],
   "source": [
    "cv.imshow(\"xray1\",img)\n",
    "cv.waitKey(0)\n",
    "cv.destroyAllWindows()"
   ]
  },
  {
   "cell_type": "code",
   "execution_count": 39,
   "id": "e4e8acd1-cb3d-4047-a40e-1a426660a776",
   "metadata": {},
   "outputs": [],
   "source": [
    "sobelX = cv.Sobel(img,cv.CV_64F,1,0)"
   ]
  },
  {
   "cell_type": "code",
   "execution_count": 40,
   "id": "2f7a1402-114f-45e3-ba23-bf6766dfce3a",
   "metadata": {},
   "outputs": [],
   "source": [
    "sobelY = cv.Sobel(img,cv.CV_64F,0,1)"
   ]
  },
  {
   "cell_type": "code",
   "execution_count": 41,
   "id": "c802ad41-ce27-4c1f-bf4e-bec1c51321ef",
   "metadata": {},
   "outputs": [],
   "source": [
    "sobelX = np.uint8(np.absolute(sobelX))\n",
    "sobelY = np.uint8(np.absolute(sobelY))"
   ]
  },
  {
   "cell_type": "code",
   "execution_count": 42,
   "id": "198e7f36-8a1f-4888-b9fb-8f8292cc28da",
   "metadata": {},
   "outputs": [],
   "source": [
    "sobel = cv.addWeighted(sobelX,0.8,sobelY,0.3,30)\n",
    "cv.imshow('sobel1',sobel)\n",
    "cv.waitKey(0)\n",
    "cv.destroyAllWindows()"
   ]
  },
  {
   "cell_type": "code",
   "execution_count": 43,
   "id": "345d98b9-7bc8-4bfe-9bbd-0522f9b54075",
   "metadata": {},
   "outputs": [],
   "source": [
    "lab = cv.Laplacian(img,cv.CV_64F,ksize=3)\n",
    "lab = np.uint8(np.absolute(lab))"
   ]
  },
  {
   "cell_type": "code",
   "execution_count": 23,
   "id": "dab780fa-cb46-42d1-8544-af202d97c68f",
   "metadata": {},
   "outputs": [],
   "source": [
    "combind = cv.bitwise_or(sobelX,sobelY)"
   ]
  },
  {
   "cell_type": "code",
   "execution_count": 44,
   "id": "b6d61b02-db0c-4f60-a6f6-50a0570bd0f0",
   "metadata": {},
   "outputs": [],
   "source": [
    "\n",
    "cv.imshow(\"lab\",lab)\n",
    "cv.waitKey(0)\n",
    "cv.destroyAllWindows()"
   ]
  },
  {
   "cell_type": "code",
   "execution_count": 46,
   "id": "c94e0a26-cfec-4d84-970e-9ed49872a77e",
   "metadata": {},
   "outputs": [],
   "source": [
    "com = cv.addWeighted(lab,0.2,sobel,0.8,30)\n",
    "cv.imshow('com',com)\n",
    "cv.waitKey(0)\n",
    "cv.destroyAllWindows()"
   ]
  },
  {
   "cell_type": "code",
   "execution_count": 47,
   "id": "ee7ff123-57ab-43d8-a387-9667bfdfb624",
   "metadata": {},
   "outputs": [],
   "source": [
    "combind1 = cv.add(lab,sobel)\n",
    "cv.imshow('combind1',combind1)\n",
    "cv.waitKey(0)\n",
    "cv.destroyAllWindows()"
   ]
  },
  {
   "cell_type": "code",
   "execution_count": null,
   "id": "d23fbb83-9eee-4601-9238-4b61c35756ae",
   "metadata": {},
   "outputs": [],
   "source": []
  },
  {
   "cell_type": "code",
   "execution_count": null,
   "id": "fec5283e-0367-47ba-a593-5c71ab744087",
   "metadata": {},
   "outputs": [],
   "source": []
  }
 ],
 "metadata": {
  "kernelspec": {
   "display_name": "Python 3 (ipykernel)",
   "language": "python",
   "name": "python3"
  },
  "language_info": {
   "codemirror_mode": {
    "name": "ipython",
    "version": 3
   },
   "file_extension": ".py",
   "mimetype": "text/x-python",
   "name": "python",
   "nbconvert_exporter": "python",
   "pygments_lexer": "ipython3",
   "version": "3.11.7"
  }
 },
 "nbformat": 4,
 "nbformat_minor": 5
}
